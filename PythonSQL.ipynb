{
 "cells": [
  {
   "cell_type": "markdown",
   "metadata": {},
   "source": [
    "# ***Using SQL in Python***\n",
    "\n",
    "![Data FLow](sql_python_banner.png)\n",
    "\n",
    "## **Querying SQLite3 from Python** \n",
    "\n",
    "#### Created By: Spencer Long\n",
    "\n",
    "In this mission, we will learn how to query a SQLite database from the Python module. \n",
    "\n",
    "**Source Material:** https://app.dataquest.io/course/sql-fundamentals \n",
    "\n",
    "---\n",
    "---\n",
    "---"
   ]
  },
  {
   "cell_type": "markdown",
   "metadata": {},
   "source": [
    "## Importing SQL into our enviroment and connecting to our database:\n",
    "\n",
    "**Documentation:** \n",
    "\n",
    "* Importing:\n",
    "* Connection: https://docs.python.org/3/library/sqlite3.html#sqlite3.connect\n",
    "* Database we will be using: https://github.com/fivethirtyeight/data/tree/master/college-majors"
   ]
  },
  {
   "cell_type": "code",
   "execution_count": 1,
   "metadata": {},
   "outputs": [
    {
     "data": {
      "text/plain": [
       "'3.13.0'"
      ]
     },
     "execution_count": 1,
     "metadata": {},
     "output_type": "execute_result"
    }
   ],
   "source": [
    "# Imports sqlite3\n",
    "import sqlite3 as sql\n",
    "\n",
    "# The version number of the run-time SQLite library\n",
    "sql.sqlite_version"
   ]
  },
  {
   "cell_type": "code",
   "execution_count": 2,
   "metadata": {},
   "outputs": [],
   "source": [
    "# Must be a file within the current working directory\n",
    "\n",
    "connection = sql.connect('jobs.db')"
   ]
  },
  {
   "cell_type": "markdown",
   "metadata": {},
   "source": [
    "---\n",
    "## Tuples:\n",
    "\n",
    "Before we can execute a query, we need to express our SQL query as a string. While we use the Connection class to represent the database we're working with, we use the Cursor class to:\n",
    "\n",
    "   * Run a query against the database\n",
    "   * Parse the results from the database\n",
    "   * Convert the results to native Python objects\n",
    "   * Store the results within the Cursor instance as a local variable\n",
    "\n",
    "After running a query and converting the results to a list of tuples, the Cursor instance stores the list as a local variable. Before diving into the syntax of querying the database, let's learn more about tuples."
   ]
  },
  {
   "cell_type": "markdown",
   "metadata": {},
   "source": [
    "A tuple is a core data structure that Python uses to represent a sequence of values, similar to a list. Unlike lists, tuples are immutable, which means we can't modify existing ones. Python represents each row in the results set as a tuple. Tuples are faster than lists, so they're helpful with larger databases and larger results sets.\n",
    "\n",
    "\n",
    "\n",
    "\n",
    "To create an empty tuple, assign a pair of empty parentheses to a variable:"
   ]
  },
  {
   "cell_type": "code",
   "execution_count": 3,
   "metadata": {},
   "outputs": [],
   "source": [
    "t = ()"
   ]
  },
  {
   "cell_type": "code",
   "execution_count": 4,
   "metadata": {},
   "outputs": [
    {
     "data": {
      "text/plain": [
       "tuple"
      ]
     },
     "execution_count": 4,
     "metadata": {},
     "output_type": "execute_result"
    }
   ],
   "source": [
    "type(t)"
   ]
  },
  {
   "cell_type": "markdown",
   "metadata": {},
   "source": [
    "Python indexes Tuples from 0 to n-1, just like it does with lists. We access the values in a tuple using bracket notation:"
   ]
  },
  {
   "cell_type": "code",
   "execution_count": 5,
   "metadata": {},
   "outputs": [],
   "source": [
    "t = ('Apple', 'Banana')"
   ]
  },
  {
   "cell_type": "code",
   "execution_count": 6,
   "metadata": {},
   "outputs": [
    {
     "data": {
      "text/plain": [
       "'Apple'"
      ]
     },
     "execution_count": 6,
     "metadata": {},
     "output_type": "execute_result"
    }
   ],
   "source": [
    "t[0]"
   ]
  },
  {
   "cell_type": "code",
   "execution_count": 7,
   "metadata": {},
   "outputs": [
    {
     "data": {
      "text/plain": [
       "'Banana'"
      ]
     },
     "execution_count": 7,
     "metadata": {},
     "output_type": "execute_result"
    }
   ],
   "source": [
    "t[1]"
   ]
  },
  {
   "cell_type": "markdown",
   "metadata": {},
   "source": [
    "For more info on tuples see: https://docs.python.org/3/tutorial/datastructures.html#tuples-and-sequences\n",
    "\n",
    "Next, let's dive into how to use the Cursor instance to query the database.\n",
    "\n",
    "---\n",
    "\n",
    "## Using the Connection instance method Cursor():\n",
    "\n",
    "**Documentation:** https://docs.python.org/3/library/sqlite3.html#sqlite3.Connection.cursor\n",
    "\n",
    "We need to use the Connection instance method cursor() to return a Cursor instance corresponding to the database we want to query."
   ]
  },
  {
   "cell_type": "code",
   "execution_count": 8,
   "metadata": {},
   "outputs": [],
   "source": [
    "# Creates a cursor\n",
    "cursor = connection.cursor()"
   ]
  },
  {
   "cell_type": "markdown",
   "metadata": {},
   "source": [
    "**Example # 1**\n",
    "\n",
    "In the following code block, we:\n",
    "\n",
    "   1. Write a basic select query that will return all of the values from the recent_grads table, and store this query as a string named query\n",
    "   1. Use the Cursor method execute() to run the query against our database\n",
    "   1. Return the full results set and store it as results\n",
    "   1. Print the first three tuples in the list results"
   ]
  },
  {
   "cell_type": "code",
   "execution_count": 9,
   "metadata": {},
   "outputs": [
    {
     "name": "stdout",
     "output_type": "stream",
     "text": [
      "[(0, 1, 2419, 'PETROLEUM ENGINEERING', 'Engineering', 2339, 36, 2057, 282, 0.120564344, 1976, 1849, 270, 1207, 37, 0.018380527, 110000, 95000, 125000, 1534, 364, 193), (1, 2, 2416, 'MINING AND MINERAL ENGINEERING', 'Engineering', 756, 7, 679, 77, 0.10185185199999999, 640, 556, 170, 388, 85, 0.117241379, 75000, 55000, 90000, 350, 257, 50), (2, 3, 2415, 'METALLURGICAL ENGINEERING', 'Engineering', 856, 3, 725, 131, 0.153037383, 648, 558, 133, 340, 16, 0.024096386, 73000, 50000, 105000, 456, 176, 0)]\n"
     ]
    }
   ],
   "source": [
    "#1. SQL Query as a string\n",
    "query = \"select * from recent_grads;\"\n",
    "\n",
    "#2. Execute the query, convert the results to tuples, and store as a local variable\n",
    "cursor.execute(query)\n",
    "\n",
    "#3. Fetch the full results set as a list of tuples\n",
    "results = cursor.fetchall()\n",
    "\n",
    "#4. Display the first three results\n",
    "print(results[0:3])"
   ]
  },
  {
   "cell_type": "markdown",
   "metadata": {},
   "source": [
    "**Example # 2:**\n",
    "\n",
    "1. Write a query that returns all of the values in the Major column from the recent_grads table.\n",
    "1. Store the full results set (a list of tuples) in majors.\n",
    "1. Then, print the first three tuples in majors.\n"
   ]
  },
  {
   "cell_type": "code",
   "execution_count": 10,
   "metadata": {},
   "outputs": [],
   "source": [
    "#1. \n",
    "query = \"select Major from recent_grads;\""
   ]
  },
  {
   "cell_type": "code",
   "execution_count": 11,
   "metadata": {},
   "outputs": [],
   "source": [
    "#2.\n",
    "cursor.execute(query)\n",
    "majors = cursor.fetchall()"
   ]
  },
  {
   "cell_type": "code",
   "execution_count": 12,
   "metadata": {},
   "outputs": [
    {
     "name": "stdout",
     "output_type": "stream",
     "text": [
      "[('PETROLEUM ENGINEERING',), ('MINING AND MINERAL ENGINEERING',), ('METALLURGICAL ENGINEERING',)]\n"
     ]
    }
   ],
   "source": [
    "#3. \n",
    "print(majors[0:3])"
   ]
  },
  {
   "cell_type": "markdown",
   "metadata": {},
   "source": [
    "---\n",
    "\n",
    "## The Execute Method:\n",
    "\n",
    "**Documentation:** https://docs.python.org/3/library/sqlite3.html#sqlite3.Connection.execute\n",
    "\n",
    "So far, we've been running queries by creating a Cursor instance, and then calling the execute method on the instance. The SQLite library actually allows us to skip creating a Cursor altogether by using the execute method within the Connection object itself. SQLite will create a Cursor instance for us under the hood and run our query against the database, allowing us to skip a step. \n",
    "\n",
    "Here's what the code looks like if we apply it to **Example # 2** we just did above:"
   ]
  },
  {
   "cell_type": "code",
   "execution_count": 13,
   "metadata": {},
   "outputs": [
    {
     "name": "stdout",
     "output_type": "stream",
     "text": [
      "[('PETROLEUM ENGINEERING',), ('MINING AND MINERAL ENGINEERING',), ('METALLURGICAL ENGINEERING',)]\n"
     ]
    }
   ],
   "source": [
    "connection = sql.connect(\"jobs.db\")\n",
    "query = \"select Major from recent_grads;\"\n",
    "print(connection.execute(query).fetchall()[0:3])"
   ]
  },
  {
   "cell_type": "markdown",
   "metadata": {},
   "source": [
    "Notice that we didn't explicitly create a separate Cursor instance ourselves in this code example.\n",
    "\n",
    "Now let's learn how to fetch a specific number of results after we run a query."
   ]
  },
  {
   "cell_type": "markdown",
   "metadata": {},
   "source": [
    "---\n",
    "\n",
    "## Fetching a specific number of results after running a query:\n",
    "\n",
    "**Documentation:** \n",
    "\n",
    "* fetchone(): https://docs.python.org/3/library/sqlite3.html#sqlite3.Cursor.fetchone\n",
    "* fetchmany(): https://docs.python.org/3/library/sqlite3.html#sqlite3.Cursor.fetchmany\n",
    "\n",
    "\n",
    "To make it easier to work with large results sets, the Cursor class allows us to control the number of results we want to retrieve at any given time. To return a single result (as a tuple), we use the Cursor method fetchone(). To return n results, we use the Cursor method fetchmany().\n",
    "\n",
    "Each Cursor instance contains an internal counter that updates every time we retrieve results. When we call the fetchone() method, the Cursor instance will return a single result, and then increment its internal counter by 1. This means that if we call fetchone() again, the Cursor instance will actually return the second tuple in the results set (and increment by 1 again).\n",
    "\n",
    "The fetchmany() method takes in an integer (n) and returns the corresponding results, starting from the current position. It then increments the Cursor instance's counter by n.\n",
    "\n",
    "See the code below for a execution of eachmethod:"
   ]
  },
  {
   "cell_type": "code",
   "execution_count": 14,
   "metadata": {},
   "outputs": [
    {
     "data": {
      "text/plain": [
       "('PETROLEUM ENGINEERING',)"
      ]
     },
     "execution_count": 14,
     "metadata": {},
     "output_type": "execute_result"
    }
   ],
   "source": [
    "query = \"select major from recent_grads\"\n",
    "\n",
    "cursor.execute(query).fetchone()"
   ]
  },
  {
   "cell_type": "code",
   "execution_count": 15,
   "metadata": {},
   "outputs": [
    {
     "data": {
      "text/plain": [
       "[('PETROLEUM ENGINEERING',),\n",
       " ('MINING AND MINERAL ENGINEERING',),\n",
       " ('METALLURGICAL ENGINEERING',),\n",
       " ('NAVAL ARCHITECTURE AND MARINE ENGINEERING',),\n",
       " ('CHEMICAL ENGINEERING',)]"
      ]
     },
     "execution_count": 15,
     "metadata": {},
     "output_type": "execute_result"
    }
   ],
   "source": [
    "cursor.execute(query).fetchmany(5)"
   ]
  },
  {
   "cell_type": "markdown",
   "metadata": {},
   "source": [
    "**Example # 3**\n",
    "\n",
    "1. Write and run a query that returns the Major and Major_category columns from recent_grads.\n",
    "1. Fetch the first five results and store them as five_results.\n"
   ]
  },
  {
   "cell_type": "code",
   "execution_count": 16,
   "metadata": {},
   "outputs": [
    {
     "data": {
      "text/plain": [
       "[('PETROLEUM ENGINEERING', 'Engineering'),\n",
       " ('MINING AND MINERAL ENGINEERING', 'Engineering'),\n",
       " ('METALLURGICAL ENGINEERING', 'Engineering'),\n",
       " ('NAVAL ARCHITECTURE AND MARINE ENGINEERING', 'Engineering'),\n",
       " ('CHEMICAL ENGINEERING', 'Engineering')]"
      ]
     },
     "execution_count": 16,
     "metadata": {},
     "output_type": "execute_result"
    }
   ],
   "source": [
    "#1.\n",
    "query = \"select major, major_category from recent_grads;\"\n",
    "\n",
    "#2.\n",
    "five_results = cursor.execute(query).fetchmany(5)\n",
    "\n",
    "five_results"
   ]
  },
  {
   "cell_type": "markdown",
   "metadata": {},
   "source": [
    "**The code below is how you would execute this example from scratch using all of the steps we have learned thus far:**"
   ]
  },
  {
   "cell_type": "code",
   "execution_count": 17,
   "metadata": {},
   "outputs": [
    {
     "data": {
      "text/plain": [
       "[('PETROLEUM ENGINEERING', 'Engineering'),\n",
       " ('MINING AND MINERAL ENGINEERING', 'Engineering'),\n",
       " ('METALLURGICAL ENGINEERING', 'Engineering'),\n",
       " ('NAVAL ARCHITECTURE AND MARINE ENGINEERING', 'Engineering'),\n",
       " ('CHEMICAL ENGINEERING', 'Engineering')]"
      ]
     },
     "execution_count": 17,
     "metadata": {},
     "output_type": "execute_result"
    }
   ],
   "source": [
    "import sqlite3\n",
    "\n",
    "connection = sqlite3.connect(\"jobs.db\")\n",
    "\n",
    "cursor = connection.cursor()\n",
    "\n",
    "query = \"select major, major_category from recent_grads;\"\n",
    "\n",
    "five_results = cursor.execute(query).fetchmany(5)\n",
    "\n",
    "five_results"
   ]
  },
  {
   "cell_type": "markdown",
   "metadata": {},
   "source": [
    "---\n",
    "## Closing your connection with a database: \n",
    "\n",
    "Because SQLite restricts access to the database file when we're connected to a database, we need to close the connection when we're done working with it. Closing the connection allows other processes to access the database, which is important when you're in a production environment and working with other team members.\n",
    "\n",
    "To close a connection to a database, use the Connection instance method close(). When we're working with multiple databases and multiple Connection instances, we want to make sure we call the close() method on the correct instance. After closing the connection, attempting to query the database using any linked Cursor instances will return the following error:\n",
    "\n",
    "    ProgrammingError: Cannot operate on a closed database.\n",
    "    \n",
    "Try closing the connection to the database using the Connection instance method close() on Example # 3 we used above:"
   ]
  },
  {
   "cell_type": "code",
   "execution_count": 18,
   "metadata": {},
   "outputs": [],
   "source": [
    "import sqlite3\n",
    "\n",
    "connection = sqlite3.connect(\"jobs.db\")\n",
    "\n",
    "cursor = connection.cursor()\n",
    "\n",
    "query = \"select major, major_category from recent_grads;\"\n",
    "\n",
    "five_results = cursor.execute(query).fetchmany(5)\n",
    "\n",
    "# This line closes the database\n",
    "connection.close()"
   ]
  },
  {
   "cell_type": "markdown",
   "metadata": {},
   "source": [
    "---\n",
    "## Bringing it home: \n",
    "\n",
    "Now let's practice the entire workflow we've learned so far, from start to finish.\n",
    "\n",
    "**Example # 4**\n",
    "\n",
    "\n",
    "1. Connect to the database jobs2.db , which contains the same data as jobs.db\n",
    "1. Write and execute a query that returns all of the majors (Major) in reverse alphabetical order (Z to A)\n",
    "1. Assign the full result set to reverse_alphabetical\n",
    "1. Finally, close the connection to the database\n"
   ]
  },
  {
   "cell_type": "code",
   "execution_count": 19,
   "metadata": {},
   "outputs": [
    {
     "data": {
      "text/plain": [
       "[('ZOOLOGY',),\n",
       " ('VISUAL AND PERFORMING ARTS',),\n",
       " ('UNITED STATES HISTORY',),\n",
       " ('TREATMENT THERAPY PROFESSIONS',),\n",
       " ('TRANSPORTATION SCIENCES AND TECHNOLOGIES',)]"
      ]
     },
     "execution_count": 19,
     "metadata": {},
     "output_type": "execute_result"
    }
   ],
   "source": [
    "import sqlite3\n",
    "\n",
    "#1.\n",
    "\n",
    "# Connect to database\n",
    "connection = sqlite3.connect(\"jobs.db\")\n",
    "\n",
    "# Create a cursor\n",
    "cursor = connection.cursor()\n",
    "\n",
    "#2 & #3.\n",
    "\n",
    "# Create query\n",
    "query = \"select major from recent_grads order by major desc;\"\n",
    "\n",
    "# Execute query and assign to variable\n",
    "reverse_alphabetical = cursor.execute(query).fetchall()\n",
    "\n",
    "#4.\n",
    "\n",
    "# Close connection to database\n",
    "connection.close()\n",
    "\n",
    "# Your query is now stored in memory!\n",
    "reverse_alphabetical[0:5]"
   ]
  },
  {
   "cell_type": "markdown",
   "metadata": {},
   "source": [
    "---\n",
    "# Next Up:\n",
    "\n",
    "Next up in this *Using SQL in Python* series is a guided project, where you'll practice analyzing data using SQLite."
   ]
  }
 ],
 "metadata": {
  "kernelspec": {
   "display_name": "Python 3",
   "language": "python",
   "name": "python3"
  },
  "language_info": {
   "codemirror_mode": {
    "name": "ipython",
    "version": 3
   },
   "file_extension": ".py",
   "mimetype": "text/x-python",
   "name": "python",
   "nbconvert_exporter": "python",
   "pygments_lexer": "ipython3",
   "version": "3.6.1"
  }
 },
 "nbformat": 4,
 "nbformat_minor": 2
}
